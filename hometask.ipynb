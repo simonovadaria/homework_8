{
 "cells": [
  {
   "cell_type": "markdown",
   "metadata": {},
   "source": [
    "Задание 1\n",
    "Напишите функцию, которая принимает на вход строку и проверяет является ли она валидным транспортным номером (1 буква, 3 цифры, 2 буквы, 2-3 цифры). Обратите внимание, что не все буквы кириллического алфавита используются в транспортных номерах.\n",
    "Если номер валиден, то функция должна возвращать отдельно номер и регион."
   ]
  },
  {
   "cell_type": "code",
   "execution_count": 1,
   "metadata": {},
   "outputs": [],
   "source": [
    "import re"
   ]
  },
  {
   "cell_type": "code",
   "execution_count": 10,
   "metadata": {},
   "outputs": [],
   "source": [
    "def transport():\n",
    "    user_input = input(\"Введите транспортный номер: \")\n",
    "    valid_number = r'([АВЕКМНОРСТXУ]{2}\\d{3}[АВЕКМНОРСТXУ])(\\d{2,3})'\n",
    "    check = re.findall(valid_number, user_input)\n",
    "    \n",
    "    if not check:\n",
    "        print('Номер не валиден')\n",
    "    else:\n",
    "        print(f'Номер {check[0][0]} валиден. Регион: {check[0][1]}')\n",
    "        \n",
    "    return"
   ]
  },
  {
   "cell_type": "code",
   "execution_count": 12,
   "metadata": {},
   "outputs": [
    {
     "name": "stdout",
     "output_type": "stream",
     "text": [
      "Введите транспортный номер: АВ223С96\n",
      "Номер АВ223С валиден. Регион: 96\n"
     ]
    }
   ],
   "source": [
    "transport()"
   ]
  },
  {
   "cell_type": "code",
   "execution_count": 13,
   "metadata": {},
   "outputs": [
    {
     "name": "stdout",
     "output_type": "stream",
     "text": [
      "Введите транспортный номер: АВ2234С96\n",
      "Номер не валиден\n"
     ]
    }
   ],
   "source": [
    "transport()"
   ]
  },
  {
   "cell_type": "markdown",
   "metadata": {},
   "source": [
    "Задание 2\n",
    "Напишите функцию, которая будет удалять все последовательные повторы слов из заданной строки при помощи регулярных выражений."
   ]
  },
  {
   "cell_type": "code",
   "execution_count": 14,
   "metadata": {},
   "outputs": [],
   "source": [
    "some_string = 'Напишите функцию функцию, которая будет будет будет будет удалять все все все все \\\n",
    "последовательные повторы слов из из из из заданной строки строки при помощи регулярных выражений'"
   ]
  },
  {
   "cell_type": "code",
   "execution_count": 89,
   "metadata": {},
   "outputs": [],
   "source": [
    "def delete_doubles(some_string):\n",
    "    return re.sub(r'(\\b\\w+)(?:\\s+\\1\\b)*', r'\\1', some_string)"
   ]
  },
  {
   "cell_type": "code",
   "execution_count": 90,
   "metadata": {},
   "outputs": [
    {
     "data": {
      "text/plain": [
       "'Напишите функцию, которая будет удалять все последовательные повторы слов из заданной строки при помощи регулярных выражений'"
      ]
     },
     "execution_count": 90,
     "metadata": {},
     "output_type": "execute_result"
    }
   ],
   "source": [
    "delete_doubles(some_string)"
   ]
  },
  {
   "cell_type": "markdown",
   "metadata": {},
   "source": [
    "Задание 3\n",
    "Напишите функцию, которая будет возвращать акроним по переданной в нее строке со словами."
   ]
  },
  {
   "cell_type": "code",
   "execution_count": 16,
   "metadata": {},
   "outputs": [],
   "source": [
    "some_words = 'Информационные технологии'"
   ]
  },
  {
   "cell_type": "code",
   "execution_count": 111,
   "metadata": {},
   "outputs": [],
   "source": [
    "def acronym(some_words):\n",
    "    res = re.findall(r'\\w+', some_words)\n",
    "    acronym = []\n",
    "    \n",
    "    for word in res:\n",
    "        letter = re.match(r'\\w', word).group(0).capitalize()\n",
    "        acronym.append(letter)\n",
    "    \n",
    "    return ''.join(acronym)"
   ]
  },
  {
   "cell_type": "code",
   "execution_count": 112,
   "metadata": {},
   "outputs": [
    {
     "data": {
      "text/plain": [
       "'ИТ'"
      ]
     },
     "execution_count": 112,
     "metadata": {},
     "output_type": "execute_result"
    }
   ],
   "source": [
    "acronym(some_words)"
   ]
  },
  {
   "cell_type": "code",
   "execution_count": 113,
   "metadata": {},
   "outputs": [],
   "source": [
    "some_words = 'Near Field Communication'"
   ]
  },
  {
   "cell_type": "code",
   "execution_count": 114,
   "metadata": {},
   "outputs": [
    {
     "data": {
      "text/plain": [
       "'NFC'"
      ]
     },
     "execution_count": 114,
     "metadata": {},
     "output_type": "execute_result"
    }
   ],
   "source": [
    "acronym(some_words)"
   ]
  },
  {
   "cell_type": "markdown",
   "metadata": {},
   "source": [
    "Задание 4\n",
    "Напишите функцию, которая будет принимать на вход список email-адресов и выводить их распределение по доменным зонам."
   ]
  },
  {
   "cell_type": "code",
   "execution_count": 119,
   "metadata": {},
   "outputs": [],
   "source": [
    "emails = ['test@gmail.com', 'xyz@test.in', 'test@ya.ru', 'xyz@mail.ru', 'xyz@ya.ru', 'xyz@gmail.com']"
   ]
  },
  {
   "cell_type": "code",
   "execution_count": 132,
   "metadata": {},
   "outputs": [],
   "source": [
    "def domain_zone(emails):\n",
    "    gmail = 0\n",
    "    test = 0\n",
    "    ya = 0\n",
    "    mail = 0\n",
    "    \n",
    "    for address in emails:\n",
    "        if re.findall(r'.+gmail.com', address):\n",
    "            gmail += 1\n",
    "        elif re.findall(r'.+test.in', address):\n",
    "            test += 1\n",
    "        elif re.findall(r'.+ya.ru', address):\n",
    "            ya += 1\n",
    "        else:\n",
    "            mail += 1\n",
    "            \n",
    "    return print(f'gmail.com: {gmail} \\ntest.in: {test} \\nya.ru: {ya} \\nmail.ru: {mail}')"
   ]
  },
  {
   "cell_type": "code",
   "execution_count": 133,
   "metadata": {},
   "outputs": [
    {
     "name": "stdout",
     "output_type": "stream",
     "text": [
      "gmail.com: 2 \n",
      "test.in: 1 \n",
      "ya.ru: 2 \n",
      "mail.ru: 1\n"
     ]
    }
   ],
   "source": [
    "domain_zone(emails)"
   ]
  },
  {
   "cell_type": "markdown",
   "metadata": {},
   "source": [
    "Задание 5 (необязательное)\n",
    "\n",
    "Напишите функцию, которая будет подсчитывать сколько слов начинается на гласные, а сколько на согласные буквы в тексте (текст может быть написан как с использованием букв кириллицы, так и латиницы)."
   ]
  },
  {
   "cell_type": "code",
   "execution_count": 134,
   "metadata": {},
   "outputs": [],
   "source": [
    "some_text = \"\"\"\n",
    "Эталонной реализацией Python является интерпретатор CPython, поддерживающий большинство активно используемых платформ. \n",
    "Он распространяется под свободной лицензией Python Software Foundation License, \n",
    "позволяющей использовать его без ограничений в любых приложениях, включая проприетарные.\n",
    "\"\"\""
   ]
  },
  {
   "cell_type": "code",
   "execution_count": 174,
   "metadata": {},
   "outputs": [],
   "source": [
    "def letters_count(some_text):\n",
    "    vowel = 0\n",
    "    consonant = 0\n",
    "    \n",
    "    text = re.findall(r'\\w+', some_text)\n",
    "    vowels_pattern = r'[АЕЁИОУЭЮЯаеёиоуэяAEIOUYaeiouy]'\n",
    "    \n",
    "    for word in text:\n",
    "        if re.match(vowels_pattern, word) is None:\n",
    "            consonant += 1\n",
    "        else:\n",
    "            vowel += 1\n",
    "        \n",
    "    return print(f'Слов на гласные буквы: {vowel} \\nСлов на согласные буквы: {consonant}')"
   ]
  },
  {
   "cell_type": "code",
   "execution_count": 175,
   "metadata": {},
   "outputs": [
    {
     "name": "stdout",
     "output_type": "stream",
     "text": [
      "Слов на гласные буквы: 9 \n",
      "Слов на согласные буквы: 21\n"
     ]
    }
   ],
   "source": [
    "letters_count(some_text)"
   ]
  },
  {
   "cell_type": "markdown",
   "metadata": {},
   "source": [
    "Задание 6 (необязательное)\n",
    "\n",
    "Напишите функцию, которая будет проверять номер сотового телефона на валидность, если он валиден, то переводить его в формат:\n",
    "+7-xxx-xxx-xx-xx"
   ]
  },
  {
   "cell_type": "code",
   "execution_count": null,
   "metadata": {},
   "outputs": [],
   "source": [
    "phone = '+7 955 555-55-55’\n",
    "phone = '8(955)555-55-55’\n",
    "phone = '+7 955 555 55 55’\n",
    "phone = '7(955) 555-55-55’\n",
    "phone = '423-555-55-5555’\n",
    "phone = '123-456-789’\n"
   ]
  },
  {
   "cell_type": "code",
   "execution_count": 224,
   "metadata": {},
   "outputs": [],
   "source": [
    "def phone_number():\n",
    "    phone = input('Введите номер телефона:')\n",
    "    \n",
    "    pattern = r'\\+*[78]\\W*(\\d{3})\\W*(\\d{3})\\W*(\\d{2})\\W*(\\d{2})'\n",
    "    \n",
    "    if re.match(r'[+78]', phone) is None or len(re.findall(r'\\d', phone)) != 11:\n",
    "        print('Номер не валиден')\n",
    "    else:\n",
    "        print(re.sub(pattern, r'+7-\\1-\\2-\\3-\\4', phone))\n",
    "    \n",
    "    return print()"
   ]
  },
  {
   "cell_type": "code",
   "execution_count": 225,
   "metadata": {},
   "outputs": [
    {
     "name": "stdout",
     "output_type": "stream",
     "text": [
      "Введите номер телефона:+7 955 555-55-55\n",
      "+7-955-555-55-55\n",
      "\n"
     ]
    }
   ],
   "source": [
    "phone_number()"
   ]
  },
  {
   "cell_type": "code",
   "execution_count": 226,
   "metadata": {},
   "outputs": [
    {
     "name": "stdout",
     "output_type": "stream",
     "text": [
      "Введите номер телефона:8(955)555-55-55\n",
      "+7-955-555-55-55\n",
      "\n"
     ]
    }
   ],
   "source": [
    "phone_number()"
   ]
  },
  {
   "cell_type": "code",
   "execution_count": 227,
   "metadata": {},
   "outputs": [
    {
     "name": "stdout",
     "output_type": "stream",
     "text": [
      "Введите номер телефона:+7 955 555 55 55\n",
      "+7-955-555-55-55\n",
      "\n"
     ]
    }
   ],
   "source": [
    "phone_number()"
   ]
  },
  {
   "cell_type": "code",
   "execution_count": 228,
   "metadata": {},
   "outputs": [
    {
     "name": "stdout",
     "output_type": "stream",
     "text": [
      "Введите номер телефона:7(955) 555-55-55\n",
      "+7-955-555-55-55\n",
      "\n"
     ]
    }
   ],
   "source": [
    "phone_number()"
   ]
  },
  {
   "cell_type": "code",
   "execution_count": 229,
   "metadata": {},
   "outputs": [
    {
     "name": "stdout",
     "output_type": "stream",
     "text": [
      "Введите номер телефона:423-555-55-5555\n",
      "Номер не валиден\n",
      "\n"
     ]
    }
   ],
   "source": [
    "phone_number()"
   ]
  },
  {
   "cell_type": "code",
   "execution_count": 230,
   "metadata": {},
   "outputs": [
    {
     "name": "stdout",
     "output_type": "stream",
     "text": [
      "Введите номер телефона:123-456-789\n",
      "Номер не валиден\n",
      "\n"
     ]
    }
   ],
   "source": [
    "phone_number()"
   ]
  }
 ],
 "metadata": {
  "kernelspec": {
   "display_name": "Python 3",
   "language": "python",
   "name": "python3"
  },
  "language_info": {
   "codemirror_mode": {
    "name": "ipython",
    "version": 3
   },
   "file_extension": ".py",
   "mimetype": "text/x-python",
   "name": "python",
   "nbconvert_exporter": "python",
   "pygments_lexer": "ipython3",
   "version": "3.8.3"
  }
 },
 "nbformat": 4,
 "nbformat_minor": 4
}
